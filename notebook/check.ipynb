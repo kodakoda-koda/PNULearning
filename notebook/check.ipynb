{
 "cells": [
  {
   "cell_type": "code",
   "execution_count": 9,
   "metadata": {},
   "outputs": [],
   "source": [
    "from datasets import load_dataset\n",
    "from transformers import AutoTokenizer\n",
    "from torch.utils.data import Subset\n",
    "import pandas as pd\n",
    "import torch\n",
    "import random"
   ]
  },
  {
   "cell_type": "code",
   "execution_count": 31,
   "metadata": {},
   "outputs": [],
   "source": [
    "def data_preprocess(train_df, test_df, tokenizer, n_classes, unlabel_rate):\n",
    "    df = pd.concat([train_df, test_df], axis=0)\n",
    "    df = df.dropna(subset=[\"Title\", \"Content\"])\n",
    "    df = pd.concat([df, pd.get_dummies(df[\"Label 1\"], dtype=int)], axis=1)\n",
    "    df = df.drop([\"Target Organization\", \"Label 2\", \"Label 3\", \"Label 4\", \"Label 5\"], axis=1)\n",
    "    df[\"input\"] = df[\"Title\"].str.cat(df[\"Content\"], sep=\".\\n\")\n",
    "\n",
    "    xy_ids = tokenizer.batch_encode_plus(\n",
    "        list(df[\"input\"]), truncation=True, max_length=512, padding=\"max_length\", return_tensors=\"pt\"\n",
    "    )\n",
    "\n",
    "    labels = torch.tensor(df.drop([\"Title\", \"Content\", \"Label 1\", \"input\"], axis=1).values)\n",
    "    top_indices = torch.argsort(labels.sum(dim=0), descending=True)[:n_classes]\n",
    "    indices = [i for i, _ in enumerate(labels.argmax(dim=1)) if _ in top_indices]\n",
    "    xy_ids[\"labels\"] = labels\n",
    "\n",
    "    for k in xy_ids.keys():\n",
    "        xy_ids[k] = xy_ids[k][indices]\n",
    "\n",
    "    if n_classes == 2:\n",
    "        xy_ids[\"labels\"] = xy_ids[\"labels\"][:, top_indices]\n",
    "        xy_ids[\"labels\"][xy_ids[\"labels\"] == 0] = -1\n",
    "    else:\n",
    "        xy_ids[\"labels\"] = xy_ids[\"labels\"][:, top_indices]\n",
    "\n",
    "    train_xy_ids = {k: v[: int(len(xy_ids[\"labels\"]) * 0.9)] for k, v in xy_ids.items()}\n",
    "    test_xy_ids = {k: v[int(len(xy_ids[\"labels\"]) * 0.9) :] for k, v in xy_ids.items()}\n",
    "\n",
    "    dataset = {\"train\": train_xy_ids, \"test\": test_xy_ids}\n",
    "\n",
    "    unlabel_indices = [\n",
    "        False for _ in range(len(train_xy_ids[\"labels\"]) - int(len(train_xy_ids[\"labels\"]) * unlabel_rate))\n",
    "    ] + [True for _ in range(int(len(train_xy_ids[\"labels\"]) * unlabel_rate))]\n",
    "    random.shuffle(unlabel_indices)\n",
    "    # if n_classes == 2:\n",
    "    #     dataset[\"train\"][\"labels\"][unlabel_indices] = torch.zeros([sum(unlabel_indices)], dtype=int)\n",
    "    # else:\n",
    "    #     dataset[\"train\"][\"labels\"][unlabel_indices] = torch.zeros([sum(unlabel_indices), n_classes], dtype=int)\n",
    "    dataset[\"train\"][\"labels\"][unlabel_indices] = torch.zeros([sum(unlabel_indices), n_classes], dtype=int)\n",
    "\n",
    "    p_ratio = (dataset[\"train\"][\"labels\"]==1).sum(dim=0) / len(dataset[\"train\"][\"labels\"])\n",
    "    # if n_classes == 2:\n",
    "    #     p_ratio = p_ratio.item()\n",
    "\n",
    "    return dataset, p_ratio"
   ]
  },
  {
   "cell_type": "code",
   "execution_count": 34,
   "metadata": {},
   "outputs": [],
   "source": [
    "train_df = pd.read_csv(\"../data/train.csv\", index_col=0)\n",
    "test_df = pd.read_csv(\"../data/test.csv\", index_col=0)\n",
    "tokenizer = AutoTokenizer.from_pretrained(\"bert-base-uncased\")\n",
    "\n",
    "dataset, p_ratio = data_preprocess(train_df, test_df, tokenizer, 2, 0.99)"
   ]
  },
  {
   "cell_type": "code",
   "execution_count": 35,
   "metadata": {},
   "outputs": [
    {
     "data": {
      "text/plain": [
       "tensor([0.0057, 0.0045])"
      ]
     },
     "execution_count": 35,
     "metadata": {},
     "output_type": "execute_result"
    }
   ],
   "source": [
    "p_ratio"
   ]
  },
  {
   "cell_type": "code",
   "execution_count": 5,
   "metadata": {},
   "outputs": [],
   "source": [
    "import os\n",
    "import pandas as pd"
   ]
  },
  {
   "cell_type": "code",
   "execution_count": 32,
   "metadata": {},
   "outputs": [
    {
     "data": {
      "text/plain": [
       "False"
      ]
     },
     "execution_count": 32,
     "metadata": {},
     "output_type": "execute_result"
    }
   ],
   "source": [
    "os.path.isfile('../resul')"
   ]
  },
  {
   "cell_type": "code",
   "execution_count": 33,
   "metadata": {},
   "outputs": [
    {
     "name": "stdout",
     "output_type": "stream",
     "text": [
      "File exists\n"
     ]
    }
   ],
   "source": [
    "if os.path.isfile(\"../results.csv\"):\n",
    "    print(\"File exists\")\n",
    "    results = pd.read_csv(\"../results.csv\")\n",
    "else:\n",
    "    results = pd.DataFrame()"
   ]
  },
  {
   "cell_type": "code",
   "execution_count": 34,
   "metadata": {},
   "outputs": [],
   "source": [
    "result = {}\n",
    "result[\"n_classes\"] = 3\n",
    "result[\"use_multi_loss\"] = True\n",
    "result[\"unlabel_rate\"] = 0.99\n",
    "result[\"epoch\"] = 4\n",
    "result[\"accuracy\"] = 0.323472893\n",
    "results = pd.concat([results, pd.DataFrame([result])], ignore_index=True)"
   ]
  },
  {
   "cell_type": "code",
   "execution_count": 35,
   "metadata": {},
   "outputs": [
    {
     "data": {
      "text/html": [
       "<div>\n",
       "<style scoped>\n",
       "    .dataframe tbody tr th:only-of-type {\n",
       "        vertical-align: middle;\n",
       "    }\n",
       "\n",
       "    .dataframe tbody tr th {\n",
       "        vertical-align: top;\n",
       "    }\n",
       "\n",
       "    .dataframe thead th {\n",
       "        text-align: right;\n",
       "    }\n",
       "</style>\n",
       "<table border=\"1\" class=\"dataframe\">\n",
       "  <thead>\n",
       "    <tr style=\"text-align: right;\">\n",
       "      <th></th>\n",
       "      <th>n_classes</th>\n",
       "      <th>use_multi_loss</th>\n",
       "      <th>unlabel_rate</th>\n",
       "      <th>epoch</th>\n",
       "      <th>accuracy</th>\n",
       "    </tr>\n",
       "  </thead>\n",
       "  <tbody>\n",
       "    <tr>\n",
       "      <th>0</th>\n",
       "      <td>3</td>\n",
       "      <td>True</td>\n",
       "      <td>0.99</td>\n",
       "      <td>4</td>\n",
       "      <td>0.323473</td>\n",
       "    </tr>\n",
       "    <tr>\n",
       "      <th>1</th>\n",
       "      <td>3</td>\n",
       "      <td>True</td>\n",
       "      <td>0.99</td>\n",
       "      <td>4</td>\n",
       "      <td>0.323473</td>\n",
       "    </tr>\n",
       "  </tbody>\n",
       "</table>\n",
       "</div>"
      ],
      "text/plain": [
       "   n_classes  use_multi_loss  unlabel_rate  epoch  accuracy\n",
       "0          3            True          0.99      4  0.323473\n",
       "1          3            True          0.99      4  0.323473"
      ]
     },
     "execution_count": 35,
     "metadata": {},
     "output_type": "execute_result"
    }
   ],
   "source": [
    "results"
   ]
  },
  {
   "cell_type": "code",
   "execution_count": null,
   "metadata": {},
   "outputs": [],
   "source": []
  }
 ],
 "metadata": {
  "kernelspec": {
   "display_name": ".myenv",
   "language": "python",
   "name": ".myenv"
  },
  "language_info": {
   "codemirror_mode": {
    "name": "ipython",
    "version": 3
   },
   "file_extension": ".py",
   "mimetype": "text/x-python",
   "name": "python",
   "nbconvert_exporter": "python",
   "pygments_lexer": "ipython3",
   "version": "3.12.3"
  }
 },
 "nbformat": 4,
 "nbformat_minor": 2
}
