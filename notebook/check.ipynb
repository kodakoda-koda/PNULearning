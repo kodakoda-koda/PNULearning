{
 "cells": [
  {
   "cell_type": "code",
   "execution_count": 1,
   "metadata": {},
   "outputs": [],
   "source": [
    "from datasets import load_dataset\n",
    "from transformers import AutoTokenizer\n",
    "from torch.utils.data import Subset\n",
    "import pandas as pd\n",
    "import torch\n",
    "import random"
   ]
  },
  {
   "cell_type": "code",
   "execution_count": 52,
   "metadata": {},
   "outputs": [],
   "source": [
    "n_classes = 2\n",
    "batch_size = 2\n",
    "tokenizer = AutoTokenizer.from_pretrained('bert-base-uncased')\n",
    "unlabel_rate = 0.99"
   ]
  },
  {
   "cell_type": "code",
   "execution_count": 57,
   "metadata": {},
   "outputs": [],
   "source": [
    "train_df = pd.read_csv(\"../data/train.csv\", index_col=0)\n",
    "test_df = pd.read_csv(\"../data/test.csv\", index_col=0)\n",
    "\n",
    "df = pd.concat([train_df, test_df], axis=0)\n",
    "df = df.dropna(subset=[\"Title\", \"Content\"])\n",
    "df = pd.concat([df, pd.get_dummies(df[\"Label 1\"], dtype=int)], axis=1)\n",
    "df = df.drop([\"Target Organization\", \"Label 2\", \"Label 3\", \"Label 4\", \"Label 5\"], axis=1)\n",
    "df[\"input\"] = df[\"Title\"].str.cat(df[\"Content\"], sep=\".\\n\")\n",
    "\n",
    "xy_ids = tokenizer.batch_encode_plus(\n",
    "    list(df[\"input\"]), truncation=True, max_length=512, padding=\"max_length\", return_tensors=\"pt\"\n",
    ")"
   ]
  },
  {
   "cell_type": "code",
   "execution_count": 58,
   "metadata": {},
   "outputs": [],
   "source": [
    "labels = torch.tensor(df.drop([\"Title\", \"Content\", \"Label 1\", \"input\"], axis=1).values)\n",
    "top_indices = torch.argsort(labels.sum(dim=0), descending=True)[: n_classes]\n",
    "indices = [i for i, _ in enumerate(labels.argmax(dim=1)) if _ in top_indices]\n",
    "xy_ids[\"labels\"] = labels\n",
    "\n",
    "for k in xy_ids.keys():\n",
    "    xy_ids[k] = xy_ids[k][indices]\n",
    "\n",
    "if n_classes == 2:\n",
    "    xy_ids[\"labels\"] = xy_ids[\"labels\"][:, top_indices[0]]\n",
    "    xy_ids[\"labels\"][xy_ids[\"labels\"] == 0] = -1\n",
    "else:\n",
    "    xy_ids[\"labels\"] = xy_ids[\"labels\"][:, top_indices]\n",
    "\n",
    "train_xy_ids = {k: v[: int(len(xy_ids['labels'])*0.9)] for k, v in xy_ids.items()}\n",
    "test_xy_ids = {k: v[int(len(xy_ids['labels'])*0.9) :] for k, v in xy_ids.items()}\n",
    "\n",
    "dataset = {\"train\": train_xy_ids, \"test\": test_xy_ids}\n",
    "\n",
    "unlabel_indices = [False for _ in range(int(len(train_xy_ids['labels']) * 0.01))] + [\n",
    "    True for _ in range(len(train_xy_ids['labels']) - int(len(train_xy_ids['labels']) * 0.01))\n",
    "]\n",
    "random.shuffle(unlabel_indices)\n",
    "if n_classes == 2:\n",
    "    dataset[\"train\"][\"labels\"][unlabel_indices] = torch.zeros([sum(unlabel_indices)], dtype=int)\n",
    "else:\n",
    "    dataset[\"train\"][\"labels\"][unlabel_indices] = torch.zeros([sum(unlabel_indices), n_classes], dtype=int)\n"
   ]
  },
  {
   "cell_type": "code",
   "execution_count": 59,
   "metadata": {},
   "outputs": [
    {
     "data": {
      "text/plain": [
       "{'input_ids': tensor([[  101,  4824,  1996,  ...,  2065,  2017,   102],\n",
       "         [  101,  5264,  4311,  ...,     0,     0,     0],\n",
       "         [  101,  6492,  3444,  ...,     0,     0,     0],\n",
       "         ...,\n",
       "         [  101, 10927,  3367,  ...,     0,     0,     0],\n",
       "         [  101, 20248, 12618,  ...,     0,     0,     0],\n",
       "         [  101,  2006,  1996,  ...,  3460,  1012,   102]]),\n",
       " 'token_type_ids': tensor([[0, 0, 0,  ..., 0, 0, 0],\n",
       "         [0, 0, 0,  ..., 0, 0, 0],\n",
       "         [0, 0, 0,  ..., 0, 0, 0],\n",
       "         ...,\n",
       "         [0, 0, 0,  ..., 0, 0, 0],\n",
       "         [0, 0, 0,  ..., 0, 0, 0],\n",
       "         [0, 0, 0,  ..., 0, 0, 0]]),\n",
       " 'attention_mask': tensor([[1, 1, 1,  ..., 1, 1, 1],\n",
       "         [1, 1, 1,  ..., 0, 0, 0],\n",
       "         [1, 1, 1,  ..., 0, 0, 0],\n",
       "         ...,\n",
       "         [1, 1, 1,  ..., 0, 0, 0],\n",
       "         [1, 1, 1,  ..., 0, 0, 0],\n",
       "         [1, 1, 1,  ..., 1, 1, 1]]),\n",
       " 'labels': tensor([ 1,  1,  1,  1,  1,  1,  1,  1,  1,  1,  1,  1,  1,  1,  1,  1, -1,  1,\n",
       "         -1,  1,  1,  1,  1,  1,  1,  1,  1,  1,  1,  1,  1,  1,  1,  1,  1,  1,\n",
       "          1,  1,  1,  1,  1,  1, -1,  1,  1,  1,  1,  1,  1,  1,  1,  1,  1,  1,\n",
       "          1, -1,  1,  1,  1,  1,  1,  1,  1,  1, -1, -1, -1, -1, -1, -1, -1, -1,\n",
       "         -1, -1, -1, -1, -1, -1, -1, -1, -1, -1, -1, -1, -1, -1, -1, -1, -1, -1,\n",
       "         -1, -1, -1, -1, -1, -1, -1, -1])}"
      ]
     },
     "execution_count": 59,
     "metadata": {},
     "output_type": "execute_result"
    }
   ],
   "source": [
    "dataset['test']"
   ]
  },
  {
   "cell_type": "code",
   "execution_count": 61,
   "metadata": {},
   "outputs": [],
   "source": [
    "p_ratio = dataset['train']['labels'].sum(dim=0) / len(dataset['train']['labels'])"
   ]
  },
  {
   "cell_type": "code",
   "execution_count": 63,
   "metadata": {},
   "outputs": [
    {
     "data": {
      "text/plain": [
       "0.006818181835114956"
      ]
     },
     "execution_count": 63,
     "metadata": {},
     "output_type": "execute_result"
    }
   ],
   "source": [
    "p_ratio.item()"
   ]
  },
  {
   "cell_type": "code",
   "execution_count": 47,
   "metadata": {},
   "outputs": [
    {
     "data": {
      "text/plain": [
       "[True, True, True, True, True, True, True, True, True, True]"
      ]
     },
     "execution_count": 47,
     "metadata": {},
     "output_type": "execute_result"
    }
   ],
   "source": [
    "unlabel_indices[-10:]"
   ]
  },
  {
   "cell_type": "code",
   "execution_count": null,
   "metadata": {},
   "outputs": [],
   "source": []
  }
 ],
 "metadata": {
  "kernelspec": {
   "display_name": ".myenv",
   "language": "python",
   "name": ".myenv"
  },
  "language_info": {
   "codemirror_mode": {
    "name": "ipython",
    "version": 3
   },
   "file_extension": ".py",
   "mimetype": "text/x-python",
   "name": "python",
   "nbconvert_exporter": "python",
   "pygments_lexer": "ipython3",
   "version": "3.12.3"
  }
 },
 "nbformat": 4,
 "nbformat_minor": 2
}
